{
 "cells": [
  {
   "cell_type": "markdown",
   "id": "59781c3c-9b5c-4b65-82ef-5202f4471a0b",
   "metadata": {},
   "source": [
    "*CS 150 Programming Assignment 2\n",
    "Connor Pawlowski Fall 2025*"
   ]
  },
  {
   "cell_type": "code",
   "execution_count": 2,
   "id": "07f79d47-97aa-4146-85c5-9c31a1930b26",
   "metadata": {},
   "outputs": [
    {
     "name": "stdout",
     "output_type": "stream",
     "text": [
      "My name is Connor, I am 22 years old, I am 6 foot 3 inches tall, and my favorite color is blood orange.\n"
     ]
    }
   ],
   "source": [
    "name= 'Connor'\n",
    "age= '22'\n",
    "height= '6 foot 3 inches'\n",
    "color= 'blood orange' \n",
    "\n",
    "print(f'My name is {name}, I am {age} years old, I am {height} tall, and my favorite color is {color}.')"
   ]
  },
  {
   "cell_type": "code",
   "execution_count": 4,
   "id": "f0b51be6-7454-46c9-bb96-17e947588529",
   "metadata": {},
   "outputs": [
    {
     "name": "stdout",
     "output_type": "stream",
     "text": [
      "The distance is 100 miles, which is the equivalent of 160.934 kilometers.\n"
     ]
    }
   ],
   "source": [
    "miles_distance = 100\n",
    "kilometers = miles_distance*1.60934\n",
    "\n",
    "print(f'The distance is {miles_distance} miles, which is the equivalent of {kilometers} kilometers.')"
   ]
  },
  {
   "cell_type": "code",
   "execution_count": 5,
   "id": "7d346c61-2bf2-45f7-8f6a-4b566f811b22",
   "metadata": {},
   "outputs": [
    {
     "name": "stdout",
     "output_type": "stream",
     "text": [
      "B1=125, B2=25, B3=150, B4=62.5.\n"
     ]
    }
   ],
   "source": [
    "run1=50\n",
    "run2=75\n",
    "\n",
    "B1 = (run1+run2)\n",
    "B2 = (run2-run1)\n",
    "B3 = (run2*2)\n",
    "B4 = (B1/2)\n",
    "\n",
    "print(f'B1={B1}, B2={B2}, B3={B3}, B4={B4}.')"
   ]
  },
  {
   "cell_type": "code",
   "execution_count": 6,
   "id": "0494b814-f01d-4e31-89ec-428d4a0696e0",
   "metadata": {},
   "outputs": [
    {
     "name": "stdout",
     "output_type": "stream",
     "text": [
      "Length of quote 30\n",
      "Uppercase FOUR SCORE AND SEVEN YEARS AGO\n",
      "Lowercase four score and seven years ago\n",
      "Stripped Four score and seven years ago\n",
      "Split ['Four', 'score', 'and', 'seven', 'years', 'ago']\n"
     ]
    }
   ],
   "source": [
    "quote='Four score and seven years ago'\n",
    "print('Length of quote', len(quote))\n",
    "print('Uppercase', quote.upper())\n",
    "print('Lowercase', quote.lower())\n",
    "print('Stripped', quote.strip())\n",
    "print('Split', quote.split())\n"
   ]
  },
  {
   "cell_type": "code",
   "execution_count": 11,
   "id": "b0722449-80c2-49e9-9fa2-eab6e6496e1b",
   "metadata": {},
   "outputs": [
    {
     "name": "stdin",
     "output_type": "stream",
     "text": [
      "Enter random length for side a 10\n",
      "Enter random lengthfor side b 20\n"
     ]
    },
    {
     "name": "stdout",
     "output_type": "stream",
     "text": [
      "The hypotenuse of your triangle is 22.36 units.\n"
     ]
    }
   ],
   "source": [
    "a=float(input('Enter random length for side a'))\n",
    "b=float(input('Enter random lengthfor side b'))\n",
    "\n",
    "hypotenuse=(a**2 + b**2)**(0.5)\n",
    "\n",
    "print(f'The hypotenuse of your triangle is {hypotenuse:.2f} units.')"
   ]
  },
  {
   "cell_type": "code",
   "execution_count": null,
   "id": "57ed2548-fd2f-4b00-b199-9e4852756e36",
   "metadata": {},
   "outputs": [],
   "source": []
  }
 ],
 "metadata": {
  "kernelspec": {
   "display_name": "anaconda-panel-2023.05-py310",
   "language": "python",
   "name": "conda-env-anaconda-panel-2023.05-py310-py"
  },
  "language_info": {
   "codemirror_mode": {
    "name": "ipython",
    "version": 3
   },
   "file_extension": ".py",
   "mimetype": "text/x-python",
   "name": "python",
   "nbconvert_exporter": "python",
   "pygments_lexer": "ipython3",
   "version": "3.11.5"
  }
 },
 "nbformat": 4,
 "nbformat_minor": 5
}
