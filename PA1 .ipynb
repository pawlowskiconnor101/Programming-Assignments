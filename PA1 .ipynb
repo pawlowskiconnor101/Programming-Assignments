{
 "cells": [
  {
   "cell_type": "markdown",
   "id": "6879f75a-eded-4036-916d-0992d8940155",
   "metadata": {},
   "source": [
    "# Connor Pawlowski - Markdown Practice"
   ]
  },
  {
   "cell_type": "markdown",
   "id": "d4d2da6a-6918-48a7-8625-79cf79b20b9b",
   "metadata": {},
   "source": [
    "### Hello, I am Connor and my interest on the coding world stems from my interest for a Data Analytics Minor and this class is a stepping stone to completion."
   ]
  },
  {
   "cell_type": "markdown",
   "id": "7fa98b0a-d050-46f3-a5cb-0a9fbffe9c66",
   "metadata": {
    "editable": true,
    "slideshow": {
     "slide_type": ""
    },
    "tags": []
   },
   "source": [
    "* Programing Assignments\n",
    "* Quizzes\n",
    "* Midterm\n",
    "* Project"
   ]
  },
  {
   "cell_type": "markdown",
   "id": "704b69d9-8708-4485-80c9-19bdfcda5da8",
   "metadata": {},
   "source": [
    "1. Module 1: Course Introduction (Chapter 1)\n",
    "2. Module 2: Lists and Tuples Part 1 (Chapter 3)\n",
    "3. Module 3: If Statements (Chapter 5)\n",
    "4. Module 4: Loops (Chapter 7)\n",
    "5. Module 5: Lists and Tuples Part 2 (Chapter 4)\n",
    "6. Module 6: Dictionaries (Chapter 6)\n",
    "7. Module 7: Sets, Functions, Libraries (Chapter 8)\n",
    "8. Module 8: Class Datatypes and Exceptions (Chapter 9, Chapter 10)\n",
    "9. Module 9: NumPy Arrays (Supplemental)\n",
    "10. Module 10: Pandas and Files Excerpt (Supplemental, Chapter 10)\n"
   ]
  },
  {
   "cell_type": "markdown",
   "id": "a8aec98e-6724-4119-ba83-ab5fbab64d32",
   "metadata": {},
   "source": [
    "**The primary language we will learn in this course is Python**"
   ]
  },
  {
   "cell_type": "markdown",
   "id": "356f2f97-9f0c-478e-aaf9-e1bdbc4208f0",
   "metadata": {},
   "source": [
    "*I am using Jupyter Notebook, an Anaconda application to create & edit this .ipynb file.*"
   ]
  },
  {
   "cell_type": "markdown",
   "id": "0b76be55-bf4c-45ce-aebb-2b58fbb6b93d",
   "metadata": {},
   "source": [
    "Today, I `played baseball` for a few hours"
   ]
  },
  {
   "cell_type": "markdown",
   "id": "249165f9-409a-4190-b3c5-f7f714e9f1c0",
   "metadata": {},
   "source": [
    "[My GitHub Repository](https://github.com/pawlowskiconnor101/CS150_Spring2025.git)"
   ]
  },
  {
   "cell_type": "markdown",
   "id": "ea4b6f9b-72cb-4c43-bdfa-3112cbfc7254",
   "metadata": {},
   "source": [
    "![Bellarmine University Logo](https://bellarmineadmissionsblog.wordpress.com/wp-content/uploads/2012/08/shield_bellarmineu_horizontal1.jpg)"
   ]
  },
  {
   "cell_type": "markdown",
   "id": "4ab151b3-4097-404b-bd2c-ee2a656b730f",
   "metadata": {},
   "source": [
    "In this Markdown Practice Assignment, I learned how to style and create headings, make sorted and bulleted lists, highlight text with bold and italic, highlight short phrases with backticks, add links, and embed photos in a Jupyter notebook. These elements improve my notebooks' readability and suitability for turning in paperwork and assignments."
   ]
  },
  {
   "cell_type": "code",
   "execution_count": null,
   "id": "c94c06f6-698a-4604-a1f9-fd868cac607f",
   "metadata": {},
   "outputs": [],
   "source": []
  }
 ],
 "metadata": {
  "kernelspec": {
   "display_name": "anaconda-panel-2023.05-py310",
   "language": "python",
   "name": "conda-env-anaconda-panel-2023.05-py310-py"
  },
  "language_info": {
   "codemirror_mode": {
    "name": "ipython",
    "version": 3
   },
   "file_extension": ".py",
   "mimetype": "text/x-python",
   "name": "python",
   "nbconvert_exporter": "python",
   "pygments_lexer": "ipython3",
   "version": "3.11.5"
  }
 },
 "nbformat": 4,
 "nbformat_minor": 5
}
