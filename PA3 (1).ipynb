{
 "cells": [
  {
   "cell_type": "markdown",
   "id": "31b84b49-a9e2-4f9d-9360-dc7c9975fad2",
   "metadata": {},
   "source": [
    "*CS 150 Programming Assignment 3 Connor Pawlowski Fall 2025*"
   ]
  },
  {
   "cell_type": "code",
   "execution_count": 2,
   "id": "d27084a3-1cbf-4263-a77b-a826a54ec0e8",
   "metadata": {},
   "outputs": [
    {
     "name": "stdin",
     "output_type": "stream",
     "text": [
      "Enter side 1: 10\n",
      "Enter side 2: 10\n",
      "Enter side 3: 15\n"
     ]
    },
    {
     "name": "stdout",
     "output_type": "stream",
     "text": [
      "Isosceles Triangle\n"
     ]
    }
   ],
   "source": [
    "a = float(input('Enter side 1:'))\n",
    "b = float(input('Enter side 2:'))\n",
    "c = float(input('Enter side 3:'))\n",
    "\n",
    "if a==b==c:\n",
    "    print('Equilateral Triangle')\n",
    "elif a==b or a==c or b==c:\n",
    "    print('Isosceles Triangle')\n",
    "else:\n",
    "    print('Scalene Triangle')"
   ]
  },
  {
   "cell_type": "code",
   "execution_count": 5,
   "id": "a4ab3b67-cce9-4dff-af86-f19337e9c397",
   "metadata": {},
   "outputs": [
    {
     "name": "stdin",
     "output_type": "stream",
     "text": [
      "Enter grade #1:  99\n",
      "Enter grade #2:  87\n",
      "Enter grade #3:  84\n",
      "Enter grade #4:  67\n",
      "Enter grade #5:  55\n"
     ]
    },
    {
     "name": "stdout",
     "output_type": "stream",
     "text": [
      "Class Average: 78.4\n",
      "Minimum Grade: 55.0\n",
      "Maximum Grade: 99.0\n",
      "1 students are at risk in this course.\n"
     ]
    }
   ],
   "source": [
    "student_grades= []\n",
    "\n",
    "for i in range(5):\n",
    "    grade=float(input(f\"Enter grade #{i+1}: \"))\n",
    "    student_grades.append(grade)\n",
    "\n",
    "average = sum(student_grades) / len(student_grades)\n",
    "print('Class Average:', average)\n",
    "print('Minimum Grade:', min(student_grades))\n",
    "print('Maximum Grade:', max(student_grades))\n",
    "\n",
    "at_risk = 0\n",
    "for grade in student_grades: \n",
    "    if grade<65:\n",
    "        at_risk = at_risk+1\n",
    "\n",
    "print(at_risk, 'student(s) are at risk in this course.')"
   ]
  },
  {
   "cell_type": "code",
   "execution_count": 14,
   "id": "f874f9b6-af2d-41d9-824a-109d5fadca18",
   "metadata": {},
   "outputs": [
    {
     "name": "stdout",
     "output_type": "stream",
     "text": [
      "Multiples of 2: [2, 4, 6, 8, 10, 12, 14, 16, 18, 20, 22, 24, 26, 28, 30, 32, 34, 36, 38, 40, 42, 44, 46, 48, 50, 52, 54, 56, 58, 60, 62, 64, 66, 68, 70, 72, 74, 76, 78, 80, 82, 84, 86, 88, 90, 92, 94, 96, 98, 100]\n",
      "Multiples of 3: [3, 6, 9, 12, 15, 18, 21, 24, 27, 30, 33, 36, 39, 42, 45, 48, 51, 54, 57, 60, 63, 66, 69, 72, 75, 78, 81, 84, 87, 90, 93, 96, 99, 3, 6, 9, 12, 15, 18, 21, 24, 27, 30, 33, 36, 39, 42, 45, 48, 51, 54, 57, 60, 63, 66, 69, 72, 75, 78, 81, 84, 87, 90, 93, 96, 99]\n",
      "Multiples of Both: [6, 12, 18, 24, 30, 36, 42, 48, 54, 60, 66, 72, 78, 84, 90, 96]\n",
      "Multiples of Either: [2, 3, 4, 6, 8, 9, 10, 12, 14, 15, 16, 18, 20, 21, 22, 24, 26, 27, 28, 30, 32, 33, 34, 36, 38, 39, 40, 42, 44, 45, 46, 48, 50, 51, 52, 54, 56, 57, 58, 60, 62, 63, 64, 66, 68, 69, 70, 72, 74, 75, 76, 78, 80, 81, 82, 84, 86, 87, 88, 90, 92, 93, 94, 96, 98, 99, 100]\n"
     ]
    }
   ],
   "source": [
    "mult_of_2 = [i for i in range(1, 101) if i % 2 == 0]\n",
    "print(\"Multiples of 2:\", mult_of_2)\n",
    "\n",
    "mult_of_3 = [i for i in range(1, 101) if i % 3 == 0]\n",
    "\n",
    "print(\"Multiples of 3:\", mult_of_3)\n",
    "\n",
    "mult_of_both = [num for num in range(1, 101) if num % 2 == 0 and num % 3 == 0]\n",
    "print(\"Multiples of Both:\", mult_of_both)\n",
    "\n",
    "mult_of_either = [i for i in range(1, 101) if  i % 2 == 0 or i % 3 == 0]\n",
    "print(\"Multiples of Either:\", mult_of_either)"
   ]
  },
  {
   "cell_type": "code",
   "execution_count": 15,
   "id": "668f2b5d-cea6-46ab-ba37-e4587160ff4b",
   "metadata": {},
   "outputs": [
    {
     "name": "stdin",
     "output_type": "stream",
     "text": [
      "Enter an item for your shopping list (or type 'done' to finish):  eggs\n",
      "Enter an item for your shopping list (or type 'done' to finish):  milk\n",
      "Enter an item for your shopping list (or type 'done' to finish):  bread\n",
      "Enter an item for your shopping list (or type 'done' to finish):  chicken\n",
      "Enter an item for your shopping list (or type 'done' to finish):  beef\n",
      "Enter an item for your shopping list (or type 'done' to finish):  yogurt\n",
      "Enter an item for your shopping list (or type 'done' to finish):  cheese\n"
     ]
    },
    {
     "name": "stdout",
     "output_type": "stream",
     "text": [
      "\n",
      "Total number of items: 7\n",
      "Shopping list in reverse order: ['cheese', 'yogurt', 'beef', 'chicken', 'bread', 'milk', 'eggs']\n",
      "Shopping list in alphabetical order: ['beef', 'bread', 'cheese', 'chicken', 'eggs', 'milk', 'yogurt']\n",
      "No items appear more than once in your shopping list.\n"
     ]
    }
   ],
   "source": [
    "shopping_list=[]\n",
    "for i in range (7):\n",
    "    item = input(\"Enter an item for your shopping list (or type 'done' to finish): \").strip()\n",
    "    if item.lower() == 'done':\n",
    "        break\n",
    "    shopping_list.append(item)\n",
    "\n",
    "print(\"\\nTotal number of items:\", len(shopping_list))\n",
    "print(\"Shopping list in reverse order:\", shopping_list[::-1])\n",
    "print(\"Shopping list in alphabetical order:\", sorted(shopping_list))\n",
    "\n",
    "found_duplicate = False\n",
    "for i in range(len(shopping_list)):\n",
    "    for j in range(i + 1, len(shopping_list)):\n",
    "        if shopping_list[i].lower() == shopping_list[j].lower(): \n",
    "            found_duplicate = True\n",
    "            print(f\"'{shopping_list[i]}' appears more than once in your list.\")\n",
    "            break  \n",
    "    if found_duplicate:\n",
    "        break\n",
    "\n",
    "if not found_duplicate:\n",
    "    print(\"No items appear more than once in your shopping list.\")"
   ]
  },
  {
   "cell_type": "code",
   "execution_count": null,
   "id": "67e91621-9d7d-4191-bcfd-9dd8ca3134cc",
   "metadata": {},
   "outputs": [],
   "source": []
  }
 ],
 "metadata": {
  "kernelspec": {
   "display_name": "anaconda-panel-2023.05-py310",
   "language": "python",
   "name": "conda-env-anaconda-panel-2023.05-py310-py"
  },
  "language_info": {
   "codemirror_mode": {
    "name": "ipython",
    "version": 3
   },
   "file_extension": ".py",
   "mimetype": "text/x-python",
   "name": "python",
   "nbconvert_exporter": "python",
   "pygments_lexer": "ipython3",
   "version": "3.11.5"
  }
 },
 "nbformat": 4,
 "nbformat_minor": 5
}
